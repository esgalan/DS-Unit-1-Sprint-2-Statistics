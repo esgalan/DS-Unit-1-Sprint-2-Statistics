{
 "cells": [
  {
   "cell_type": "markdown",
   "metadata": {},
   "source": [
    "## Autograded Notebook (Canvas & CodeGrade)\n",
    "\n",
    "This notebook will be automatically graded. It is designed to test your answers and award points for the correct answers. Following the instructions for each Task carefully.\n",
    "\n",
    "### Instructions\n",
    "\n",
    "* **Download this notebook** as you would any other ipynb file\n",
    "* **Upload** to Google Colab or work locally (if you have that set-up)\n",
    "* **Delete `raise NotImplementedError()`**\n",
    "* Write your code in the `# YOUR CODE HERE` space\n",
    "* **Execute** the Test cells that contain `assert` statements - these help you check your work (others contain hidden tests that will be checked when you submit through Canvas)\n",
    "* **Save** your notebook when you are finished\n",
    "* **Download** as a `ipynb` file (if working in Colab)\n",
    "* **Upload** your complete notebook to Canvas (there will be additional instructions in Slack and/or Canvas)"
   ]
  },
  {
   "cell_type": "markdown",
   "metadata": {
    "id": "838Dmw1kM2LK"
   },
   "source": [
    "# Lambda School Data Science - Unit 1 Sprint 2 Module 1\n",
    "\n",
    "## Hypothesis Testing - One and two-sample t-Tests\n",
    "\n",
    "### Objectives\n",
    "\n",
    "* Explain the purpose of a t-test and identify applications\n",
    "* Use a t-test for independence to test for a statistically significant association between two categorical variables\n",
    "* Use a t-test p-value to draw the correct conclusion about the null and alternative hypothesis"
   ]
  },
  {
   "cell_type": "markdown",
   "metadata": {
    "id": "XvoOHjnMR42h"
   },
   "source": [
    "### Introduction\n",
    "\n",
    "Mosquito nets have traditionally been an important tool to prevent mosquito bites in parts of the world where malaria is endemic. However, it may not be practical for an army that is on the move to set up and carry mosquito nets each night and day. Impregnating soldiers’ uniforms with insect repellent solves the mobility problem but also has drawbacks. First, the insect repellent quickly becomes ineffective with repeated washing and ironing and must be frequently reapplied. Second, in hot and humid climates the insect repellent can be absorbed through the skin, and the long-term effects of this exposure are unknown. One compromise is to have soldiers apply patches treated with insect repellent to their clothing. These patches would last longer because they would not be washed or ironed and would not expose the entire body to the insect repellent.\n",
    "\n",
    "### Dataset Description\n",
    "\n",
    "The `Mosquito.xlsx` dataset contains data recorded in an experiment conducted on male soldiers in the Indian Army who were stationed in the Tezpur/Solmara garrison in Northeast India. Thirty soldiers were randomly selected to receive one of three types of mosquito single repellent patch. After giving informed consent, the study participants affixed the patches at predetermined points on their uniforms and research assistants (who were blinded to the type of repellent used) counted the number of times a mosquito landed on each individual in an hour. \n",
    "\n",
    "Medical officers with the Indian Army have recorded data on mosquito bites and related illness for many years and can say with authority that the mean number of mosquito touches for soldiers not wearing any mosquito repellent is 8.2 per hour.**We wish to determine if wearing a single repellent patch changes the mean number of mosquito touches for soldiers compared to not wearing any mosquito repellant.**\n",
    "\n",
    "*Adapted from: A. Bhatnagar and V.K. Mehta (2007). \"Efficacy of Deltamethrin and Cyfluthrin Impregnated Cloth Over Uniform Against Mosquito Bites,\" Medical Journal Armed Forces India, Vol. 63, pp. 120-122.*"
   ]
  },
  {
   "cell_type": "markdown",
   "metadata": {},
   "source": [
    "**Task 1** - Load the data\n",
    "\n",
    "Let's load the data! The URL has been provided as well as the imports for pandas and numpy.\n",
    "\n",
    "* load your CSV file into a DataFrame named `df_mosquito`"
   ]
  },
  {
   "cell_type": "code",
   "execution_count": null,
   "metadata": {
    "deletable": false,
    "id": "-5ubUxGnTn6k",
    "nbgrader": {
     "cell_type": "code",
     "checksum": "a79cf5edca9e94a4824036e800f7a3e3",
     "grade": false,
     "grade_id": "cell-dae3789e00dd9b29",
     "locked": false,
     "schema_version": 3,
     "solution": true,
     "task": false
    }
   },
   "outputs": [],
   "source": [
    "# Task 1\n",
    "import pandas as pd\n",
    "import numpy as np\n",
    "\n",
    "# URL for the dataset\n",
    "data_url = 'https://raw.githubusercontent.com/LambdaSchool/data-science-practice-datasets/main/unit_1/Mosquito/Mosquito.csv'\n",
    "\n",
    "# YOUR CODE HERE\n",
    "raise NotImplementedError()\n",
    "\n",
    "# Print out your DataFrame\n",
    "df_mosquito.head()"
   ]
  },
  {
   "cell_type": "markdown",
   "metadata": {},
   "source": [
    "**Task 1 Test**"
   ]
  },
  {
   "cell_type": "code",
   "execution_count": null,
   "metadata": {
    "deletable": false,
    "editable": false,
    "nbgrader": {
     "cell_type": "code",
     "checksum": "f554f6a993c5e6159020716a3c7a13da",
     "grade": true,
     "grade_id": "cell-a347d8dd7572e6d4",
     "locked": true,
     "points": 1,
     "schema_version": 3,
     "solution": false,
     "task": false
    }
   },
   "outputs": [],
   "source": [
    "# Task 1 - Test\n",
    "\n",
    "assert isinstance(df_mosquito, pd.DataFrame), 'Have you created a DataFrame named `df_mosquito`?'\n",
    "assert len(df_mosquito) == 90\n"
   ]
  },
  {
   "cell_type": "markdown",
   "metadata": {},
   "source": [
    "**Task 2 -** Statistical hypotheses\n",
    "\n",
    "Write the null and alternative hypotheses using the experiment information described above.\n",
    "\n",
    "This task will not be autograded - but it is part of completing the challenge."
   ]
  },
  {
   "cell_type": "markdown",
   "metadata": {},
   "source": [
    "**Task 2 ANSWER:**\n",
    "\n",
    "FILL IN YOUR ANSWERS BELOW\n",
    "\n",
    "Null hypothesis: \n",
    "\n",
    "Alternative hypothesis: \n",
    "\n",
    "$H_0: \\mu =$ \n",
    "\n",
    "$H_a: \\mu \\neq$ "
   ]
  },
  {
   "cell_type": "markdown",
   "metadata": {},
   "source": [
    "**Task 3** - Calculate the mean\n",
    "\n",
    "* Calculate the mean number of mosquito touches in the sample. Assign your answer to the variable `mosquito_touch_mean`."
   ]
  },
  {
   "cell_type": "code",
   "execution_count": null,
   "metadata": {
    "deletable": false,
    "nbgrader": {
     "cell_type": "code",
     "checksum": "f0ac9da4107e7987705315f3b457d510",
     "grade": false,
     "grade_id": "cell-22ced5cd2cae6230",
     "locked": false,
     "schema_version": 3,
     "solution": true,
     "task": false
    }
   },
   "outputs": [],
   "source": [
    "# Task 3\n",
    "\n",
    "# YOUR CODE HERE\n",
    "raise NotImplementedError()"
   ]
  },
  {
   "cell_type": "markdown",
   "metadata": {},
   "source": [
    "**Task 3 Test**"
   ]
  },
  {
   "cell_type": "code",
   "execution_count": null,
   "metadata": {
    "deletable": false,
    "editable": false,
    "nbgrader": {
     "cell_type": "code",
     "checksum": "1342cd49e01455195373972dd04e3d42",
     "grade": true,
     "grade_id": "cell-3970fbb1a3eaefb5",
     "locked": true,
     "points": 1,
     "schema_version": 3,
     "solution": false,
     "task": false
    }
   },
   "outputs": [],
   "source": [
    "# Task 3 - Test\n",
    "# Hidden tests - you will see the results when you submit to Canvas"
   ]
  },
  {
   "cell_type": "markdown",
   "metadata": {},
   "source": [
    "**Task 4** - Calculate the standard deviation\n",
    "\n",
    "* Calculate the standard deviation of the number of mosquito touches in the sample. Assign your answer to `mosquito_touch_std`."
   ]
  },
  {
   "cell_type": "code",
   "execution_count": null,
   "metadata": {
    "deletable": false,
    "nbgrader": {
     "cell_type": "code",
     "checksum": "3073fccc5836e232b55191593823249e",
     "grade": false,
     "grade_id": "cell-9c4fe58a9fe2d7aa",
     "locked": false,
     "schema_version": 3,
     "solution": true,
     "task": false
    }
   },
   "outputs": [],
   "source": [
    "# Task 4\n",
    "\n",
    "# YOUR CODE HERE\n",
    "raise NotImplementedError()"
   ]
  },
  {
   "cell_type": "markdown",
   "metadata": {},
   "source": [
    "**Task 4 Test**"
   ]
  },
  {
   "cell_type": "code",
   "execution_count": null,
   "metadata": {
    "deletable": false,
    "editable": false,
    "nbgrader": {
     "cell_type": "code",
     "checksum": "16782c1d47a0a443f3a5387c948fef92",
     "grade": true,
     "grade_id": "cell-4939c4289c39b4e3",
     "locked": true,
     "points": 1,
     "schema_version": 3,
     "solution": false,
     "task": false
    }
   },
   "outputs": [],
   "source": [
    "# Task 4 - Test\n",
    "# Hidden tests - you will see the results when you submit to Canvas"
   ]
  },
  {
   "cell_type": "markdown",
   "metadata": {},
   "source": [
    "**Task 5** - One-sample t-test\n",
    "\n",
    "* Conduct a 1-sample t-test to test your hypotheses. Assign your t-test result to the variable `mosquito_pval`.\n",
    "\n",
    "*Hint: The `stats.ttest_1samp()` function returns two values; read the documentation to select the p-value*"
   ]
  },
  {
   "cell_type": "code",
   "execution_count": null,
   "metadata": {
    "deletable": false,
    "nbgrader": {
     "cell_type": "code",
     "checksum": "25e7202a6ae1680c595093a5087476be",
     "grade": false,
     "grade_id": "cell-44b3f2a39081c5df",
     "locked": false,
     "schema_version": 3,
     "solution": true,
     "task": false
    }
   },
   "outputs": [],
   "source": [
    "# Task 5\n",
    "\n",
    "# Use the 'ttest_1samp' from the stats package\n",
    "from scipy import stats\n",
    "\n",
    "# YOUR CODE HERE\n",
    "raise NotImplementedError()"
   ]
  },
  {
   "cell_type": "markdown",
   "metadata": {},
   "source": [
    "**Task 5 Test**"
   ]
  },
  {
   "cell_type": "code",
   "execution_count": null,
   "metadata": {
    "deletable": false,
    "editable": false,
    "nbgrader": {
     "cell_type": "code",
     "checksum": "4674209f4aac3c4072c34e2366764b6c",
     "grade": true,
     "grade_id": "cell-3be2eb1f16e366e6",
     "locked": true,
     "points": 1,
     "schema_version": 3,
     "solution": false,
     "task": false
    }
   },
   "outputs": [],
   "source": [
    "# Task 5 - Test\n",
    "# Hidden tests - you will see the results when you submit to Canvas"
   ]
  },
  {
   "cell_type": "markdown",
   "metadata": {},
   "source": [
    "**Task 6**\n",
    "\n",
    "Report your conclusion at the 0.05 significance level. Write your answer in the cell below.\n",
    "\n",
    "This task will not be autograded - but it is part of the project!"
   ]
  },
  {
   "cell_type": "markdown",
   "metadata": {},
   "source": [
    "**Task 6 ANSWER:**\n",
    "\n",
    "SHORT ANSWER HERE"
   ]
  },
  {
   "cell_type": "markdown",
   "metadata": {
    "id": "FGnFRSjRqG9s"
   },
   "source": [
    "## Use the following information to complete Tasks 7-13\n",
    "\n",
    "### Introduction\n",
    "\n",
    "More than 14,000 people finished the 2020 Disney Marathon held on January 12. The results by age and gender group are included in the `Disney.csv dataset`. \n",
    "\n",
    "**We wish to determine if the mean finishing time for male and female marathon runners is the same or if there is a difference in the mean finishing time between male and female marathon runners.**\n",
    "\n",
    "\n",
    "[Source: Track Shack. 2020 Disney Marathon Race Results](https://www.trackshackresults.com/disneysports/results/wdw/wdw20/mar_results.php)"
   ]
  },
  {
   "cell_type": "markdown",
   "metadata": {},
   "source": [
    "**Task 7** - Load the next dataset\n",
    "\n",
    "Let's load the data! The URL has been provided.\n",
    "\n",
    "* load your CSV file into a DataFrame named `df_disney`"
   ]
  },
  {
   "cell_type": "code",
   "execution_count": null,
   "metadata": {
    "deletable": false,
    "id": "KIpOQrHytz2P",
    "nbgrader": {
     "cell_type": "code",
     "checksum": "b14fac35b78622982353db3854cbbcb8",
     "grade": false,
     "grade_id": "cell-2b389fa658a51cd2",
     "locked": false,
     "schema_version": 3,
     "solution": true,
     "task": false
    }
   },
   "outputs": [],
   "source": [
    "# Task 7\n",
    "\n",
    "# URL for Disney marathon dataset\n",
    "data_url2 = 'https://raw.githubusercontent.com/LambdaSchool/data-science-practice-datasets/main/unit_1/Disney_Marathon/Disney.csv'\n",
    "\n",
    "# YOUR CODE HERE\n",
    "raise NotImplementedError()"
   ]
  },
  {
   "cell_type": "markdown",
   "metadata": {},
   "source": [
    "**Task 7 Test**"
   ]
  },
  {
   "cell_type": "code",
   "execution_count": null,
   "metadata": {
    "deletable": false,
    "editable": false,
    "nbgrader": {
     "cell_type": "code",
     "checksum": "157a068e31f72c13d744cf606d9fb08b",
     "grade": true,
     "grade_id": "cell-c1f16b75c543e0d1",
     "locked": true,
     "points": 1,
     "schema_version": 3,
     "solution": false,
     "task": false
    }
   },
   "outputs": [],
   "source": [
    "# Task 7 - Test\n",
    "\n",
    "assert isinstance(df_disney, pd.DataFrame), 'Have you created a DataFrame named `df_disney`?'\n",
    "assert len(df_disney) == 14106\n"
   ]
  },
  {
   "cell_type": "markdown",
   "metadata": {
    "id": "Llk7ugCgt3vI"
   },
   "source": [
    "**Task 8** - Write the hypothesis\n",
    "\n",
    "Write the null and alternative hypotheses for the scenario described above in words and symbols.\n",
    "\n",
    "This task will not be autograded - but it is part of completing the challenge."
   ]
  },
  {
   "cell_type": "markdown",
   "metadata": {},
   "source": [
    "**Task 8 ANSWER:**\n",
    "\n",
    "FILL IN YOUR ANSWERS BELOW\n",
    "\n",
    "Null hypothesis: \n",
    "\n",
    "Alternative hypothesis: \n",
    "\n",
    "$H_0: \\mu =$ \n",
    "\n",
    "$H_a: \\mu \\neq$ "
   ]
  },
  {
   "cell_type": "markdown",
   "metadata": {},
   "source": [
    "**Task 9** - Create new series from a DataFrame\n",
    "\n",
    "Create two separate Series (a pandas DataFrame column is a Series):\n",
    "\n",
    "* one containing finishing times for male participants (`male_finish`)\n",
    "* one containing finishing times for female participants (`female_finish`)"
   ]
  },
  {
   "cell_type": "code",
   "execution_count": null,
   "metadata": {
    "deletable": false,
    "nbgrader": {
     "cell_type": "code",
     "checksum": "e57a216ce84829984c281f73fa701a2a",
     "grade": false,
     "grade_id": "cell-4290d3dd2f668a25",
     "locked": false,
     "schema_version": 3,
     "solution": true,
     "task": false
    }
   },
   "outputs": [],
   "source": [
    "# Task 9\n",
    "\n",
    "# YOUR CODE HERE\n",
    "raise NotImplementedError()"
   ]
  },
  {
   "cell_type": "markdown",
   "metadata": {},
   "source": [
    "**Task 9 Test**"
   ]
  },
  {
   "cell_type": "code",
   "execution_count": null,
   "metadata": {
    "deletable": false,
    "editable": false,
    "nbgrader": {
     "cell_type": "code",
     "checksum": "d623787b5a82e6865a0fc293c9d60038",
     "grade": true,
     "grade_id": "cell-5384320ccd7f5048",
     "locked": true,
     "points": 1,
     "schema_version": 3,
     "solution": false,
     "task": false
    }
   },
   "outputs": [],
   "source": [
    "# Task 9 - Test\n",
    "# Hidden tests - you will see the results when you submit to Canvas"
   ]
  },
  {
   "cell_type": "markdown",
   "metadata": {},
   "source": [
    "**Task 10** - Calculate the mean finishing times\n",
    "\n",
    "* Calculate the mean finishing time for male and female participants separately. Name your variables `male_finish_mean` and `female_finish_mean`."
   ]
  },
  {
   "cell_type": "code",
   "execution_count": null,
   "metadata": {
    "deletable": false,
    "nbgrader": {
     "cell_type": "code",
     "checksum": "0740d4260503e50a0b971045ac32b81c",
     "grade": false,
     "grade_id": "cell-f6c55ea4a2dba463",
     "locked": false,
     "schema_version": 3,
     "solution": true,
     "task": false
    }
   },
   "outputs": [],
   "source": [
    "# Task 10\n",
    "\n",
    "# YOUR CODE HERE\n",
    "raise NotImplementedError()"
   ]
  },
  {
   "cell_type": "markdown",
   "metadata": {},
   "source": [
    "**Task 10 Test**"
   ]
  },
  {
   "cell_type": "code",
   "execution_count": null,
   "metadata": {
    "deletable": false,
    "editable": false,
    "nbgrader": {
     "cell_type": "code",
     "checksum": "b8c7e27c91f2fa121e07315a8339569c",
     "grade": true,
     "grade_id": "cell-71bc6659db96de45",
     "locked": true,
     "points": 1,
     "schema_version": 3,
     "solution": false,
     "task": false
    }
   },
   "outputs": [],
   "source": [
    "# Task 10 - Test\n",
    "# Hidden tests - you will see the results when you submit to Canvas"
   ]
  },
  {
   "cell_type": "markdown",
   "metadata": {},
   "source": [
    "**Task 11** - Calculate the standard deviation\n",
    "\n",
    "* Calculate standard deviation of the mean finishing time for male and female participants separately. Name your variables `male_finish_std` and `female_finish_std`."
   ]
  },
  {
   "cell_type": "code",
   "execution_count": null,
   "metadata": {
    "deletable": false,
    "nbgrader": {
     "cell_type": "code",
     "checksum": "0668a332d37fe542dfc25bd21bdd0ed0",
     "grade": false,
     "grade_id": "cell-3ac04d8339ec03c3",
     "locked": false,
     "schema_version": 3,
     "solution": true,
     "task": false
    }
   },
   "outputs": [],
   "source": [
    "# Task 11\n",
    "\n",
    "# YOUR CODE HERE\n",
    "raise NotImplementedError()"
   ]
  },
  {
   "cell_type": "markdown",
   "metadata": {},
   "source": [
    "**Task 11 Test**"
   ]
  },
  {
   "cell_type": "code",
   "execution_count": null,
   "metadata": {
    "deletable": false,
    "editable": false,
    "nbgrader": {
     "cell_type": "code",
     "checksum": "4b5a2dce6d574c0f837046a73baff288",
     "grade": true,
     "grade_id": "cell-a2de7fe5b67a1886",
     "locked": true,
     "points": 1,
     "schema_version": 3,
     "solution": false,
     "task": false
    }
   },
   "outputs": [],
   "source": [
    "# Task 11 - Test\n",
    "# Hidden tests - you will see the results when you submit to Canvas"
   ]
  },
  {
   "cell_type": "markdown",
   "metadata": {},
   "source": [
    "**Task 12** - Conduct a 2-sample t-test\n",
    "\n",
    "Conduct a 2-sample t-test to test your hypotheses:\n",
    "\n",
    "* Assign the t-statistic to a variable called `disney_tval`\n",
    "* Assign the p-value to a variable called `disney_pval`\n",
    "\n",
    "Hint: The function returns two values and you can assign them with one line (example):\n",
    "\n",
    "`variable1, variable2` = `some.function(arguments)`"
   ]
  },
  {
   "cell_type": "code",
   "execution_count": null,
   "metadata": {
    "deletable": false,
    "nbgrader": {
     "cell_type": "code",
     "checksum": "8e185d064c54da6e23d648cbeb9aba7d",
     "grade": false,
     "grade_id": "cell-d391e7e149994d87",
     "locked": false,
     "schema_version": 3,
     "solution": true,
     "task": false
    }
   },
   "outputs": [],
   "source": [
    "# Task 12\n",
    "\n",
    "# YOUR CODE HERE\n",
    "raise NotImplementedError()"
   ]
  },
  {
   "cell_type": "markdown",
   "metadata": {},
   "source": [
    "**Task 12 Test**"
   ]
  },
  {
   "cell_type": "code",
   "execution_count": null,
   "metadata": {
    "deletable": false,
    "editable": false,
    "nbgrader": {
     "cell_type": "code",
     "checksum": "21c23c6671a4f7e515873d0d9df7076b",
     "grade": true,
     "grade_id": "cell-35a1e3947ac6388a",
     "locked": true,
     "points": 1,
     "schema_version": 3,
     "solution": false,
     "task": false
    }
   },
   "outputs": [],
   "source": [
    "# Task 12 - Test\n",
    "# Hidden tests - you will see the results when you submit to Canvas"
   ]
  },
  {
   "cell_type": "markdown",
   "metadata": {
    "id": "rTw_EoXTukqT"
   },
   "source": [
    "**Task 13** - Report your result\n",
    "\n",
    "Report your conclusion at the 0.05 significance level.\n",
    "\n",
    "This task will not be autograded - but it is part of completing the challenge.\n",
    "\n",
    "SHORT ANSWER HERE"
   ]
  },
  {
   "cell_type": "markdown",
   "metadata": {
    "id": "4walH_MwwMeQ"
   },
   "source": [
    "### In your own words, answer the following questions:\n",
    "\n",
    "These tasks will not be autograded - but they are part of completing the challenge.\n",
    "\n",
    "**Task 14:** Explain the Central Limit Theorem.\n",
    "\n",
    "SHORT ANSWER HERE\n",
    "\n",
    "**Task 15:** Describe the Normal Distribution.\n",
    "\n",
    "SHORT ANSWER HERE\n",
    "\n",
    "**Task 16:** Describe the relationship between the Normal distribution and the t-distribution.\n",
    "\n",
    "SHORT ANSWER HERE\n",
    "\n",
    "**Task 17:** Write about who William Sealy Gosset was.\n",
    "\n",
    "SHORT ANSWER HERE\n"
   ]
  },
  {
   "cell_type": "markdown",
   "metadata": {
    "id": "nbvqZnZXu8r0"
   },
   "source": [
    "## Portfolio Project Milestone\n",
    "\n",
    "Write the first draft of your research question.  This is a question that should be answerable with two visualizations and a blog post.  \n",
    "\n",
    "You should have selected a dataset and have a good idea what your research question is by the end of the day.  If you don't - please ask for help from your instructor, track team or mentor."
   ]
  }
 ],
 "metadata": {
  "colab": {
   "collapsed_sections": [],
   "name": "LS_DS_121_ttests_Assignment_ANSWERS.ipynb",
   "provenance": []
  },
  "kernelspec": {
   "display_name": "Python 3",
   "language": "python",
   "name": "python3"
  },
  "language_info": {
   "codemirror_mode": {
    "name": "ipython",
    "version": 3
   },
   "file_extension": ".py",
   "mimetype": "text/x-python",
   "name": "python",
   "nbconvert_exporter": "python",
   "pygments_lexer": "ipython3",
   "version": "3.7.4"
  }
 },
 "nbformat": 4,
 "nbformat_minor": 1
}
